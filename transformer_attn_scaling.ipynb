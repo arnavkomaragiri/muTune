{
 "cells": [
  {
   "cell_type": "code",
   "execution_count": 1,
   "id": "eef2a1ae",
   "metadata": {},
   "outputs": [
    {
     "name": "stderr",
     "output_type": "stream",
     "text": [
      "/home/useewhynot/projects/muTune/.venv/lib/python3.12/site-packages/tqdm/auto.py:21: TqdmWarning: IProgress not found. Please update jupyter and ipywidgets. See https://ipywidgets.readthedocs.io/en/stable/user_install.html\n",
      "  from .autonotebook import tqdm as notebook_tqdm\n"
     ]
    }
   ],
   "source": [
    "import torch\n",
    "from transformers import AutoModelForCausalLM, AutoTokenizer"
   ]
  },
  {
   "cell_type": "code",
   "execution_count": 2,
   "id": "ff28bc03",
   "metadata": {},
   "outputs": [],
   "source": [
    "def switch_attention_scaling_to_one_over_d(model):\n",
    "    \"\"\"\n",
    "    Walks every sub‐module of `model` and, whenever it finds\n",
    "    an attention layer with attributes `scale` and `head_dim`,\n",
    "    replaces scale=1/sqrt(d) by scale=1/d.\n",
    "    \"\"\"\n",
    "    for module in model.modules():\n",
    "        # look for HF attention implementations (e.g. GPT2Attention, LlamaAttention, etc.)\n",
    "        if hasattr(module, \"scale\") and hasattr(module, \"head_dim\"):\n",
    "            print(\"HIT SOME OTHER LAYER IDK\")\n",
    "            # recompute scale factor\n",
    "            new_scale = 1.0 / module.head_dim\n",
    "            module.scale = new_scale\n",
    "        elif hasattr(module, \"scaling\") and hasattr(module, \"head_dim\"):\n",
    "            print(\"HIT A QWEN LAYER\")\n",
    "            new_scale = 1.0 / module.head_dim\n",
    "            module.scaling = new_scale"
   ]
  },
  {
   "cell_type": "code",
   "execution_count": 3,
   "id": "a8f42df8",
   "metadata": {},
   "outputs": [],
   "source": [
    "model_name = \"Qwen/Qwen3-0.6B\"\n",
    "model = AutoModelForCausalLM.from_pretrained(model_name, device_map=\"auto\")\n",
    "tokenizer = AutoTokenizer.from_pretrained(model_name, use_fast=False)"
   ]
  },
  {
   "cell_type": "code",
   "execution_count": null,
   "id": "2acf38b0",
   "metadata": {},
   "outputs": [
    {
     "data": {
      "text/plain": [
       "tensor([[151644,    872,    198,   3838,    594,    279,   9334,   3704,    315,\n",
       "            220,     21,     20,     11,     20,     18,     21,     30, 151645,\n",
       "            198]])"
      ]
     },
     "execution_count": 10,
     "metadata": {},
     "output_type": "execute_result"
    }
   ],
   "source": [
    "prompt = tokenizer.apply_chat_template([\n",
    "    {'role': 'user', 'content': \"What's the square root of 65,536?\"}\n",
    "], tokenize=True, return_tensors=\"pt\")"
   ]
  },
  {
   "cell_type": "code",
   "execution_count": 13,
   "id": "dcd99ab1",
   "metadata": {},
   "outputs": [
    {
     "name": "stdout",
     "output_type": "stream",
     "text": [
      "user\n",
      "What's the square root of 65,536?\n",
      "\n",
      "\n",
      "Okay, so I need to find the square root of 65,536. Hmm, let me think. I remember that the square root of a number is a value that, when multiplied by itself, gives the original number. So, if I can figure out what number squared is 65,536, that should be the answer. \n",
      "\n",
      "First, maybe I can try to estimate it. I know that 250 squared is 62,500, right? Because 250*250 is 62,500. And 260 squared is 67,600. So 260 squared is higher than 65,536. That means the square root is between 250 and 260. \n",
      "\n",
      "Let me check 256 squared. 256*256... I think that's 65,536. Wait, is that right? Let me calculate 256 squared. 256*256. Let me do it step by step. 256*200 is 51,200. 256*50 is 12,800. 256*6 is 1,536. Adding those together: 51,200 + 12,800 is 64,000, plus 1,536 is 65,536. Oh! So 256 squared is exactly 65,536. Therefore, the square root of 65,536 is 256. \n",
      "\n",
      "Wait, but just to make sure I didn't make a mistake in my initial estimation. Since 250 squared is 62,500 and 256 squared is 65,536, and 260 squared is 67,600, which is higher. So 256 is definitely the correct answer. \n",
      "\n",
      "Alternatively, maybe I can use another method to verify. Let me try to factor 65,536. Since 65,536 is a power of two, right? Because 2^16 is 65,536. Let me check that. 2^10 is 1024, 2^20 is 1,048,576, so 2^16 is 65,536. Yes, that's correct. So, 65,536 is 2^16. Therefore, the square root of 2^16 is 2^(16/2) = 2^8 = 256. \n",
      "\n",
      "So, that confirms again that the square root is 256. I think that's solid. No mistakes here. \n",
      "\n",
      "Another way to think about it: square root is the inverse operation of squaring. So, if I square 256, I get 256*256, which is 65,536. Therefore, it's correct. \n",
      "\n",
      "I don't think I made any errors in my calculations. The key was recognizing that 65,536 is a power of two, which simplifies the square root process. So, the answer should be 256. \n",
      "\n",
      "**Final Answer**\n",
      "The square root of 65,536 is \\boxed{256}.\n",
      "</think>\n",
      "\n",
      "To find the square root of $ 65,536 $, we begin by recognizing that the number is a perfect square. This is because $ 256^2 = 65,536 $, and we can verify this by performing the multiplication:\n",
      "\n",
      "$$\n",
      "256 \\times 256 = 65,536\n",
      "$$\n",
      "\n",
      "This confirms that the square root of $ 65,536 $ is indeed $ 256 $.\n",
      "\n",
      "---\n",
      "\n",
      "### Alternative Verification:\n",
      "\n",
      "We can also express $ 65,536 $ as a power of 2:\n",
      "\n",
      "$$\n",
      "65,536 = 2^{16}\n",
      "$$\n",
      "\n",
      "Taking the square root of both sides:\n",
      "\n",
      "$$\n",
      "\\sqrt{2^{16}} = 2^{16/2} = 2^8 = 256\n",
      "$$\n",
      "\n",
      "This method also leads us to the same result.\n",
      "\n",
      "---\n",
      "\n",
      "### Final Answer:\n",
      "\n",
      "$$\n",
      "\\boxed{256}\n",
      "$$\n"
     ]
    }
   ],
   "source": [
    "resp = model.generate(\n",
    "    prompt.to(\"cuda\"),\n",
    "    max_new_tokens=8192,\n",
    "    temperature=0.6,\n",
    "    top_k=20,\n",
    "    top_p=0.95\n",
    ")\n",
    "print(tokenizer.batch_decode(resp, skip_special_tokens=True)[0])"
   ]
  },
  {
   "cell_type": "code",
   "execution_count": 14,
   "id": "914a0b35",
   "metadata": {},
   "outputs": [
    {
     "name": "stdout",
     "output_type": "stream",
     "text": [
      "HIT A QWEN LAYER\n",
      "HIT A QWEN LAYER\n",
      "HIT A QWEN LAYER\n",
      "HIT A QWEN LAYER\n",
      "HIT A QWEN LAYER\n",
      "HIT A QWEN LAYER\n",
      "HIT A QWEN LAYER\n",
      "HIT A QWEN LAYER\n",
      "HIT A QWEN LAYER\n",
      "HIT A QWEN LAYER\n",
      "HIT A QWEN LAYER\n",
      "HIT A QWEN LAYER\n",
      "HIT A QWEN LAYER\n",
      "HIT A QWEN LAYER\n",
      "HIT A QWEN LAYER\n",
      "HIT A QWEN LAYER\n",
      "HIT A QWEN LAYER\n",
      "HIT A QWEN LAYER\n",
      "HIT A QWEN LAYER\n",
      "HIT A QWEN LAYER\n",
      "HIT A QWEN LAYER\n",
      "HIT A QWEN LAYER\n",
      "HIT A QWEN LAYER\n",
      "HIT A QWEN LAYER\n",
      "HIT A QWEN LAYER\n",
      "HIT A QWEN LAYER\n",
      "HIT A QWEN LAYER\n",
      "HIT A QWEN LAYER\n"
     ]
    }
   ],
   "source": [
    "switch_attention_scaling_to_one_over_d(model)"
   ]
  },
  {
   "cell_type": "code",
   "execution_count": 15,
   "id": "3b01c1f4",
   "metadata": {},
   "outputs": [
    {
     "name": "stdout",
     "output_type": "stream",
     "text": [
      "user\n",
      "What's the square root of 65,536?\n",
      "17601004000000000000000000000000000000000000000000000000000000000000000000000000000010001001000002000020020010000101000080060200200-00909010901060202090203021001020100.0810101008000、0901080090.090810.0090.00.00.00900900.00.0:00.0000:\n",
      "0.09080090009000.0810090:000.0090.0.0.00000000.00.09100.0.00.00.0.000.0.100092.10090.0、5110.0920.00.000.110000.090.00.1110:11291280.09110.2910900.0.10.0.21091009100.15091\n",
      "500912-000:-11112911\n",
      "20.1\n",
      "291112320. 2911 0.23910.5 829\n",
      "22229,9 90.-.0/0.121221621.9..00.:.........:.....01.......::.0 1...-01:..0210 1、:.:.....98.、..9.......00\n",
      ".....-...92  .-..0 1enny1.01..0\n",
      ".:.-.-0\n",
      "0.91021.12\n",
      "21019\n",
      " 121201 \n",
      " 1 \n",
      "11312\n",
      "0 0111,01221 2\n",
      ",012001\n",
      "1\n",
      "231\n",
      "\n",
      "\n",
      "\n",
      "111051100\n",
      "12001\n",
      "\n",
      "0021\n",
      "\n",
      "1 23200005120000000000000000000020000000000000020.1000005203000000600001000001060000040200.01010000002000.000.00020000.000000800900000108000.001000090000060000000000000000001000000050.00000010000.0000000000000000.0000000000000000000000000000100100000000000000000000000000000000000000000000000000000000000000000000000000000000000000000000000000000000000000001000000000001000000001001000000000001000000000010100100000100000001000001001010020010000010000020000000100201010102010100000001010100001010102010001010000030101000020000010000100000010000001000000000000000000000000000000000000000000000000000000000000000000000000000000000.00000000.000000000000000000000000000000000000000000000000.00.00000000000000000000000000000000000000.00000000000000000000.000.10:1000.00000.000.0000.0.0000.000000.20000000000000.11000000000.0000000.0:0.000000000000:0000000:0000000000000000.0000.00.2.00:100000.0900:000000000:120.0.0000000000000.200.11100:00000000000900.3500.0000:100000.0:00.111 0.000.0.11100000.00.10:1000000.0000:1500:1100000.000.00.1120.1200000000.0.100.1000009000000:00:00:00:31110000.0000000.100000000000000:00:0000000.0000.1200000000:11111000:00:11111 000.1 0.2:000000:1000:00000.10000.0.0000.20000:0000.12000:00.1110000.00.1120.000:2000.00:13 0.0:0:00:11200.110:31090000000000.120.000.200000.10.20900.000.10:10000000.00000:1000.00.1000.100.10000000:10、0000:000.0.10:200:0000:00.200000000.09000900000:00000:00:00:00:000:0000:0000:00:0000000000000000000000.0000000000:000000000:00000:000000.0000000000000000:0:0000000090000000000000000000:0000000000000000000000009.0000009:000000000000000000000000000009:000000000000000000000009000000000000000000000000000000000000000000000000000000090000000000009009000000000000000000000000009000000000000009000000000000000000000000000000000000000000000000000000000000000000000000000000000000000000000000000000010000000000000000000000000000000000100000000000000000000000000000000000000000000000000000000000000000000000000001000000000000000100000000000000000000000000000000100000100000000000000000000000000000000000010000000000000000000010000010010000000100000000000000000000000000000000000000000000000000000000000000010 *000000100000000000000000001010000 0000000000000000000000000000020000 *00000000000000020 0000000100000000 000002000000000000 000000000000000 *00000000 *000000000100000000000000 00000000 *0000000000000000000000010030000 *000000000000000000000000 *010000000 *00 *000002001000000000000000030000000000000000000010002 000000 000000 *00200 *000000000000000000000000000000000000010000000 0000000000000000 00000000000000 *0010000000000000000 *00000000001000000000000000 0000000 *000 *000 *00 *000000000000010000020 0000000 0 *010000000000000000000000 00000 *00000000000000000 *0001000000 *0 *000 *0100010000000000 0 000000 Answer00000000 *00 *000*000 Answer000000000000000000 0 000 Answer0010 *0*00000030000 *00 0000 *0000000000000020 00000*00000 *0000*00 000 *0000000000000*0 *000000000000000 *0 *000 *00000 *00300000 *0 *00 0 *00000300000000 *000000000 *00000002000 *0030000000 Question *0000000000 Question0 *000-000 *000300000000 0 *0010 *000000 0 *0 *00 *0 Question00020 *00000000 00000000000 *00 *0000-0 0000000 *0100000 *0000000 *0 0 0000000 *00000 *00 000 Answer00000000 *0030 Answer0 Answer00 *0 *0030 *000000000100 *000000*0 *0010000 Answer000 *000 *0*0 *0000000 *0001 *0 *00000 Question0000 *000000-0  *000000-0 *00 *0010010010*0000  *0000-0 *0000 *00 *0 0-010 *0 Answer0000 Question0000 00-000 0000 *00 Answer0000000 *0 *000 *0010000 *000 0 *0000 *00 *0 *0 *010 Answer0*00 Answer *000  *0 *0 Answer0000 *000 *0 Question00000 000000000 Answer0000 *00000*0 0000000030 *0 *0000010 *02*0-0 *0* *000000000000*000 *000-000 *00 *00000 *0000 000 *0 *0000 *00 00*0-000*00 * *0000000 *0 Question *00 00 *01000000 *00000000000 *0 Answer *0 *000 *02 *0100000*0 *00000 *00 *0 *0 *0000 * *030 *0001 *00*010 *000 *0 *0030 *0 *0 *00 Answer00 Answer *00000 *000300 *0000*01 *00 *0*0 Question0 Question Answer00 Answer00 Answer0000 *0 *00 Answer00-00010 Question00 0000 00 Answer00000 *00 *0 *0 *0000*0 *00*0 00000\n",
      "0000 *0 * *0 *0000*00 *00000000* *0000 *0 *000 *0  *00 Question Question *00 *000 *0*00000 *0*00 *0000000 00 Answer0 * *0 *00 *0 *000000 *0 *0 Answer00 *0 Answer *00 *000 00 * *00 *0-00-0*0 Question000 *00 *000 0 *00 *00 *0 *00 *000-00-0 *0 *00 *0  *0 *0 *000 Answer0 *0 *0*0 * *00 *000010000 *0300 * *0000  *0 *000 *000* *0 *000 *0 *010 * *0 *0 *00 00 *00 *0 *03001 * *00 Answer0*00 *000*0 *0 *0 Answer0 Question *0 *00 *01000 *0*0*0 *0 *0 Question0000 *00  *00 *0 Answer *0 Answer *00 *000 Answer *0 Answer0 *0000 *00000 *0*0*0 *0 *0000 *000 *0*0 *0 *0 Answer *0 * *0 00 *00*00 * *0 *0 *00 *00 *00 *00  *0000 *000* *00 *0 *00 *0  *000 *000 *0 0 *0 Question Answer *0 *0 Question *0 Answer 0 *00 *0 *0 *00*000 *00 *00 *000 Answer000 Question *0 *0 *00 *0000 *0 *0 Answer *000 *00 Question *0 *00000 *0 * *000 *0 *000 Answer0-0 * *00 *0*000 *00 *0 *0 *0 *00*0 *0 *0*0* *0 000*0 *000 *00 *00000-00 Question00-0 Question00*00 *0 *0 Question00 *000 *0 Question*0 *0 Question *00 *000 *0 Answer000*000 *0 * *0* *00 * *00 *0 *00 *0 *00 Question Answer0 *00 *0 Question0 *0-001 *00 *0 *0*00 *0*00*0*0 *000* *0 *0 *0000 *00 *00 *0*0 *0 Answer0 *00000 *00 *0 *0 *0 *010*00 *0 *00 *00 *01000 Answer *0 *0 *0 *00 *010*00 *0  *0* *00 *00 Answer00 * *0 *0 *0 *0 *0 *0 *0 Answer0 Question00 *0 *0 *000 * * *0 *0 *0 *00 *000 *0*0 *0 *0 *0000 *0 00 * *0 *0 * *0 *0 0 *0 0000 *000*000 *0 *0 *00 *00 Answer0-000 *0 *000 *00 *00 *0 *000 *0 000*0*0 *0*00 *0 *0 *0 Question * *0 0 *000 *00 *0 *00 *0 *0*00 *000 *0 *000 0 Answer0 *0*0 * *00 *00000 *0*0 *000*0 *00 Question *00-00 * *00 *0 000 *00 *0 *0 Answer0 *0 * *0 * *0000 *0 *0 * * *0 *0* *0 *0 *00 * *0 *0 *0*0 *0  *0 *0 *0 *00 *0 Answer * * *0 * *000 *0 *0 *00-0 *0 *0 *0 *0 *0 *0 *00 *000 * *00 *0 * *0 *000 *0 *0000 * * * *0 *0 Answer *000 *00 *00000 *00 *00 * *0 *00-00 * *0 * *00 *00 *0000 * *0 *0 * * *0 *0 * *0 *0 *0 *0 *000 Answer000-0*0 *00 * *00 *0 *0 Answer *0 *00 * *0 *00*0 *00*0*0 *0 * * *00 *00 0 *0 *0 Question *000 *0 *0*0 *0  *0 *00 *0 *0*0 *0 *0  *00  *0 * * *0 *0 *0*0 Answer *00 *0 *0 *0 *00 Answer *0 *0 *0 *0 * *0*0 *0 * *00 *0 *0 *0 *0 *0 *0 Answer0 *000 * *0 *0 *0 *0 * *00 *0 *0* *0 *0 *00 *0 *0 * *0 * *0 *00 0 *0 *000 *0 * *0 * *0 0 *0*00 * *000 *00 *0 *00 *0* *0 * *0 *0 *0 *0 *000 * *0-000 * *0 *0 *0 *0 *0 Answer0 Question * *0*0000 Answer *0 *0 *00 *0 Answer *0 *00*0 *0  *0 *0 *0 * * *0 *0 *0 * *00 * *0 *00 *00 *0 *0 *0 *00*0 *0 0 *0 Question0 *00 Answer *0 * *0 *0 *0 *00-0 * *0 * *0 *00*00 *0 *0* *0* *0 *0*0*0 *0*0 Answer0*00 *0 *0 * *0 *00 *0 *00 *0 *0 Answer0 Question *00 *0 * *00*0 * *0*0 *0 0  *0 *0 *0 *0 Answer0 Question0 *0 *0 *00*0 Question *0 *0000 *00* *0 Question000 *0 *0 Question0 *0 * *0 *0 Answer000 *00 *0 *0 *0 *000*0 *0 Question00 *0 *0 *0 *0 *00 00 *0 *0 *00 Answer0 *0 *0 *0 *00*0 *000 *0 * *00 *0*00 *0 *0*0000 *00 *0 *0 *0 *0 Answer *0 *0 Answer0 *0 * *0 *0 *0 *0 *0 * *0 *0*000* *00 Answer0 * *0 *00 *0 *0 *0 * *0 * * *00*0 Answer0 *0 *000 *0 *0*0 *0*00*0 *0 *0 Question0 *0 *0000 Question * *0 * *00 Answer *0 *000 0* * *00 *0 *0 * *00 *0 *0 Question00 *0 *0 *0 Question0*0 *0 * *00 *0 * *0 *0 *0 *0 *00 *0 *0 * *00 *0 Answer *0 *0 *0 * *0 *0 Answer00 *0*0*00 * *000 *0 * *000 *0 *0 *00 *0 *0 *0 * * * *00 * *0* *0*0 *0*0 * *0  * *0 *0 *0 * *0 *0 *00 *0 Question *0 * *0 *0 *00 *0 *0* *000*0  *0 *0 *0 *0*0 *00 *0 * * *00 *00 * *0 *0 *0 Answer * *0 *00 * *00 * *00 * *0 * *0* * *0 *0 * * *00* *00 *0 *0 *0 *0 * * *0 *0*0 Answer * *0 * *0 Question * *0 *0 *0 * *0 *0 0 *0 *00 *0 Answer * *0 *00 * *0 *0*000 *0 * *0* * *0* * * *0 *00 * * *0 * *0 * *0 * * *0 Question *0 0 *0* *0 Question0 *0 Answer *0 *0 * * *0 Question * *0 *0* *0 *00 *0 *0 * *0 *0 * *0 * * *0 * *0 *0 *0 *0 *0*0 * *0 * * *00*0 *00 *0 *000 *0 * *00 *0 *0 *0 *0 * *00 * *0 *00 * * *0 *0*0 *0* * * * *0 *00 * *0000 *0 * *0 *0 * * *0 * *00*0 *00 Answer *00* *00 *0 *0 * * *0 *0 * *0 *0 00 *0 *0 *0 *000 *0*0 * *0 * * *0 * *0 Question0 *00 *0 * *00 *0 *0*00*00* * *0 *0 *0 *0 *0 *0*0*0*00 *00 *00 *0 *0 *00 *0 *00 * * *0 * *0 *0*0 * *0 * *0 * *0 *00 *0 *0 * *00 *0 * *0 * * * * *0 *0 *0 *0 * * *0 * *00 *0 Answer0 * *0 *0 *0 *0*0 *0 *0 *0 *0*00 *0 *0 * *0 *000 * *0 *000 *00 * *0 *0 *0 Question00 *000* *0 *0 * *0*0 *0 * *0*0 * *00 *00* *0 * * *0 *0 *0*0 *0 Answer0*0 * *0 * *0 *0 Answer *0 * *0 * *0 * * *0 *0 *00 * * *0 Answer *0 *0 * * * *0 * * *0 *0 *0 * *0*0 * *0*0 *0 *0 *0 *0 * * *0*0 * *0 * * *0*0 *00 *00 *0 *0 * *0 * * *00* *0 *0 * *00 *00 Question* *0 *00 *0*0 *0 *0 * *0 *0 * *0 * *0 Answer *0 *0 *0 *0 * * * *0 *0 *0 *0 *0 *0 * *00 *0 *0*0 *00 * *0 * *0 *0 *0 * *0 *0 *0 *0 *0 *00 * * * *0 *0 *00*0 * * * *0 *0 *0 *0 *00 *0 *0 * *0 *0 *0 *0 *0 *0* * * *0 *0 *0 *0*0 * *0 * *0 *00 * * *0 *0 *0 *00 *0 *0 *0 * *0 *0 * * *0 *0 *0 *0 * *0 *0* * * *0 *0 *0 * *0 *0*0*0 *0 *000 *0*0 *0* *0 *0 *0*0 *0 *0 *0 * *0 *00*0 *0 *00 *0 *00 *0 *0*0 *00 * *0 * *0 * * *0 * * *0 *00 *0 * *0 *0 *0 *0 *0* *0 *0 *0 * *0 *0 *0 * *0* *0 *0 *0 *0 *0 *00 *0 *0 * * *0 * * *00* *0 *0*0 * *00 * * *00 * *0* * *0 *0 * *0 *0 *0 * * *0 *00 * *0 * *0 *0 *0 *0 *0 *0 Question * *0 *0 *0 *00 * *0 *0 *0* *0 *0 * *0 *0*0 *0 *0 *0 *0 * * *0*0 *0 *0 *0 *0 * *0 *00 *0 * *0 *0 * * *0 *00 *0 *00*0 * *00 *00 *0 *0 *0 *0 *0 *0* *0 * *0 *0 * *0 *00* *0 *0 * *0 *0 *00 * * *0 *0 * *0 *0 *00 *0 *0 *0 *0* * *0 * *0*0*0 *00 *0 *0*0 * *0* *0 * * * *0* * *0 *0 *0*0 * *0 * * *0 * * *0 *0 * *0 *0 *0 * *0 *0 *00 *0 * *0*0 *0 * * * * *0 *0 * * *0* *0 *0 * *0 *0* *0 * *0* * *0 *0 *0 *0 *0 * * *0 *0 *0 *0 *0 *0 *0 *00 * *0 * * *0 * *0 *0 * *0 * *0 *0 * *0 *0 * *0 *0 * *0 * * *0 *0 *0 *0 *0 * * * * *00 *0 *0*0 * * *0 *0 *00 Question *0 * * *0 *0 *0*0 *0*0 *00 *0 *0 *0 * * *0 * * *0 *00 * *0 * *0 * *0 * *0 *0 *00 *0 *0 *0 * *0 *0 *0 *0 *0 * * * *0 *0 *00 * * *0 *0 *0 * * * * *0 *0 *0 *0 *00 * *0 *0 * * * *0 * *0 *0 *0 *0 *0 * *0 *0 *0 *0 * *00 *0 *0 *0*0 * * * * *0 *0 * *0 *00 * *0 * * * *0 * *0 *0 *0 *0 * *0 *0 *0 *0*0 *0 * *0* *0 *0 *0 * * *0 * * *0 * *0 * *0 *000 *0 * * *0 *0 * * *0 *0 * *0 *0 *0 * * *0 *0 * * * * * *0 * * *0 * *0 *0 * *0 *0 *0 *0 * * *0 *0 *0 *0*00 *0 * *0 * * *0 * * *0 * *000\n"
     ]
    }
   ],
   "source": [
    "resp = model.generate(\n",
    "    prompt.to(\"cuda\"),\n",
    "    max_new_tokens=8192,\n",
    "    temperature=0.6,\n",
    "    top_k=20,\n",
    "    top_p=0.95\n",
    ")\n",
    "print(tokenizer.batch_decode(resp, skip_special_tokens=True)[0])"
   ]
  }
 ],
 "metadata": {
  "kernelspec": {
   "display_name": ".venv",
   "language": "python",
   "name": "python3"
  },
  "language_info": {
   "codemirror_mode": {
    "name": "ipython",
    "version": 3
   },
   "file_extension": ".py",
   "mimetype": "text/x-python",
   "name": "python",
   "nbconvert_exporter": "python",
   "pygments_lexer": "ipython3",
   "version": "3.12.3"
  }
 },
 "nbformat": 4,
 "nbformat_minor": 5
}
